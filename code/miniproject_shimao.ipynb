{
 "cells": [
  {
   "cell_type": "markdown",
   "id": "1187924a-1707-4d38-8ea0-54d16dfae9d6",
   "metadata": {
    "tags": []
   },
   "source": [
    "# **IST 652 Mini Project: Cinematic Insights**\n",
    "- Nikki Shimao"
   ]
  },
  {
   "cell_type": "markdown",
   "id": "8be2396f-4e66-47dc-a46e-28e1b4e380f6",
   "metadata": {},
   "source": [
    "## Background:"
   ]
  },
  {
   "cell_type": "markdown",
   "id": "751a9543-88ea-4abb-a4be-1494dcd11cdf",
   "metadata": {},
   "source": [
    "The idea for this project emerged from the current buzz around the highly anticipated movie releases, such as Wicked and Moana, which have generated significant excitement. With so much attention focused on these upcoming films, it sparked an interest in exploring movie ratings and understanding what drives people's preferences. I personally love movies and am always curious about other's ratings of them in order to help me pick what films I should watch next!\n",
    "\n",
    "By analyzing a dataset of movies and user ratings, the project aims to uncover patterns in how films are rated across genres (specifically Drama/Romance), track how ratings evolve over time, and examine specific user's ratings through multiple ways. This analysis of movie ratings offers a data-driven approach to connecting trends in the film industry with a deeper understanding of viewer preferences."
   ]
  },
  {
   "cell_type": "markdown",
   "id": "25cc408b-a605-4753-b057-8e031bbc0576",
   "metadata": {},
   "source": [
    "## Part 1: Import and Clean 2 Data Sources"
   ]
  },
  {
   "cell_type": "code",
   "execution_count": 37,
   "id": "fe68eed7-e46f-4011-941d-266987ed7403",
   "metadata": {
    "tags": []
   },
   "outputs": [],
   "source": [
    "# Import required packages\n",
    "import pandas as pd"
   ]
  },
  {
   "cell_type": "code",
   "execution_count": 38,
   "id": "4fb2d9b4-e382-4040-8dcc-43d93c43a344",
   "metadata": {
    "tags": []
   },
   "outputs": [],
   "source": [
    "# Read in data from first source:\n",
    "allmovies_df = pd.read_csv('movies.csv')"
   ]
  },
  {
   "cell_type": "code",
   "execution_count": 39,
   "id": "b691e949-dea9-40d6-87a0-8a1658844415",
   "metadata": {
    "tags": []
   },
   "outputs": [
    {
     "name": "stdout",
     "output_type": "stream",
     "text": [
      "<class 'pandas.core.frame.DataFrame'>\n"
     ]
    }
   ],
   "source": [
    "# Allows viewing of type of allmovies_df\n",
    "print(type(allmovies_df))"
   ]
  },
  {
   "cell_type": "code",
   "execution_count": 40,
   "id": "8dd9492d-7643-46ab-9f23-8641f81fa9a8",
   "metadata": {
    "tags": []
   },
   "outputs": [
    {
     "name": "stdout",
     "output_type": "stream",
     "text": [
      "movieId     int64\n",
      "title      object\n",
      "genres     object\n",
      "dtype: object\n"
     ]
    }
   ],
   "source": [
    "# Checking the data types of each column\n",
    "print(allmovies_df.dtypes)"
   ]
  },
  {
   "cell_type": "code",
   "execution_count": 41,
   "id": "4ebcca72-91f4-46d7-b3d5-6e2f35755ea3",
   "metadata": {},
   "outputs": [],
   "source": [
    "# Included these lines of code to reset the display options to default so that I can show some changes that I eventually do \n",
    "pd.reset_option('display.width')  # Reset display width to default\n",
    "pd.reset_option('display.max_columns')  # Reset max columns to default"
   ]
  },
  {
   "cell_type": "code",
   "execution_count": 42,
   "id": "c7eda125-3a38-409e-9f9a-e38c02b8b97c",
   "metadata": {
    "tags": []
   },
   "outputs": [
    {
     "name": "stdout",
     "output_type": "stream",
     "text": [
      "   movieId                               title  \\\n",
      "0        1                    Toy Story (1995)   \n",
      "1        2                      Jumanji (1995)   \n",
      "2        3             Grumpier Old Men (1995)   \n",
      "3        4            Waiting to Exhale (1995)   \n",
      "4        5  Father of the Bride Part II (1995)   \n",
      "\n",
      "                                        genres  \n",
      "0  Adventure|Animation|Children|Comedy|Fantasy  \n",
      "1                   Adventure|Children|Fantasy  \n",
      "2                               Comedy|Romance  \n",
      "3                         Comedy|Drama|Romance  \n",
      "4                                       Comedy  \n"
     ]
    }
   ],
   "source": [
    "# Output the first few rows of the movies dataset\n",
    "print(allmovies_df.head())"
   ]
  },
  {
   "cell_type": "code",
   "execution_count": 43,
   "id": "fa7daddb-2ac0-425b-8a2f-50f90569f07b",
   "metadata": {
    "tags": []
   },
   "outputs": [],
   "source": [
    "# Reformatted the movies dataset so that it would not line break the genres column, but instead kept it on the same lines as the movieId and title\n",
    "\n",
    "# Set the display width in order to avoid any line breaks\n",
    "pd.set_option('display.width', 200)\n",
    "\n",
    "# Ensuring that all columns are displayed\n",
    "pd.set_option('display.max_columns', None)\n"
   ]
  },
  {
   "cell_type": "code",
   "execution_count": 44,
   "id": "51324547-1fa9-4a92-8505-6b74c262823e",
   "metadata": {
    "tags": []
   },
   "outputs": [
    {
     "name": "stdout",
     "output_type": "stream",
     "text": [
      "   movieId                               title                                       genres\n",
      "0        1                    Toy Story (1995)  Adventure|Animation|Children|Comedy|Fantasy\n",
      "1        2                      Jumanji (1995)                   Adventure|Children|Fantasy\n",
      "2        3             Grumpier Old Men (1995)                               Comedy|Romance\n",
      "3        4            Waiting to Exhale (1995)                         Comedy|Drama|Romance\n",
      "4        5  Father of the Bride Part II (1995)                                       Comedy\n"
     ]
    }
   ],
   "source": [
    "# Prints the first few lines of the allmovies_df to show it reformatted\n",
    "print(allmovies_df.head())"
   ]
  },
  {
   "cell_type": "code",
   "execution_count": 45,
   "id": "b1b37c0e-8d61-40fb-8880-84f4f80ca8f0",
   "metadata": {
    "tags": []
   },
   "outputs": [
    {
     "name": "stdout",
     "output_type": "stream",
     "text": [
      "movieId    0\n",
      "title      0\n",
      "genres     0\n",
      "dtype: int64\n"
     ]
    }
   ],
   "source": [
    "# Checking for any missing values\n",
    "print(allmovies_df.isnull().sum())"
   ]
  },
  {
   "cell_type": "code",
   "execution_count": 46,
   "id": "b51294e6-842a-44fb-9f2c-6e6b1204478b",
   "metadata": {
    "tags": []
   },
   "outputs": [
    {
     "name": "stdout",
     "output_type": "stream",
     "text": [
      "0\n"
     ]
    }
   ],
   "source": [
    "# Checking for duplicates\n",
    "print(allmovies_df.duplicated().sum())"
   ]
  },
  {
   "cell_type": "code",
   "execution_count": 47,
   "id": "3d9d7442-baa6-4425-a2c5-9419a7846009",
   "metadata": {
    "tags": []
   },
   "outputs": [
    {
     "name": "stdout",
     "output_type": "stream",
     "text": [
      "   movieId                        title                                       genres  year\n",
      "0        1                    Toy Story  Adventure,Animation,Children,Comedy,Fantasy  1995\n",
      "1        2                      Jumanji                   Adventure,Children,Fantasy  1995\n",
      "2        3             Grumpier Old Men                               Comedy,Romance  1995\n",
      "3        4            Waiting to Exhale                         Comedy,Drama,Romance  1995\n",
      "4        5  Father of the Bride Part II                                       Comedy  1995\n"
     ]
    }
   ],
   "source": [
    "# Despite there being no missing values or duplicates there is some cleaning and reconfigurating of the data that I thought was necessary\n",
    "\n",
    "# Extracts the year from the 'title' column and assigns it to a new column\n",
    "allmovies_df['year'] = allmovies_df['title'].str.extract(r'\\((\\d{4})\\)')\n",
    "\n",
    "# Removes the year from the title column\n",
    "allmovies_df['title'] = allmovies_df['title'].str.replace(r'\\(\\d{4}\\)', '', regex=True).str.strip()\n",
    "\n",
    "# Replaces the '|' character in the 'genres' column with a comma\n",
    "allmovies_df['genres'] = allmovies_df['genres'].str.replace('|', ',', regex=False)\n",
    "\n",
    "# Saves the cleaned data to cleanmovies_df\n",
    "cleanmovies_df = allmovies_df.copy()\n",
    "\n",
    "# Prints the first few lines of the cleaned movies dataframe\n",
    "print(cleanmovies_df.head())\n"
   ]
  },
  {
   "cell_type": "code",
   "execution_count": 48,
   "id": "48fa262a-eacc-4817-b689-c6b20df12945",
   "metadata": {
    "tags": []
   },
   "outputs": [
    {
     "name": "stdout",
     "output_type": "stream",
     "text": [
      "movieId     int64\n",
      "title      object\n",
      "genres     object\n",
      "year       object\n",
      "dtype: object\n"
     ]
    }
   ],
   "source": [
    "# Checking the data types of each column\n",
    "print(cleanmovies_df.dtypes)"
   ]
  },
  {
   "cell_type": "code",
   "execution_count": 49,
   "id": "2e56ee3b-ef02-435e-9c3d-d99e42cf44c1",
   "metadata": {
    "tags": []
   },
   "outputs": [],
   "source": [
    "# Read in data from second source:\n",
    "allratings_df = pd.read_csv('ratings.csv')"
   ]
  },
  {
   "cell_type": "code",
   "execution_count": 50,
   "id": "b1a3024e-b932-438c-881c-110bbcfe7cba",
   "metadata": {
    "tags": []
   },
   "outputs": [
    {
     "name": "stdout",
     "output_type": "stream",
     "text": [
      "   userId  movieId  rating  timestamp\n",
      "0       1        1     4.0  964982703\n",
      "1       1        3     4.0  964981247\n",
      "2       1        6     4.0  964982224\n",
      "3       1       47     5.0  964983815\n",
      "4       1       50     5.0  964982931\n"
     ]
    }
   ],
   "source": [
    "# Output the first few rows of the ratings dataset\n",
    "print(allratings_df.head())"
   ]
  },
  {
   "cell_type": "code",
   "execution_count": 51,
   "id": "733498bc-7789-49f9-a7a9-9948a4cfe7bd",
   "metadata": {
    "tags": []
   },
   "outputs": [
    {
     "name": "stdout",
     "output_type": "stream",
     "text": [
      "userId         int64\n",
      "movieId        int64\n",
      "rating       float64\n",
      "timestamp      int64\n",
      "dtype: object\n"
     ]
    }
   ],
   "source": [
    "# Checking the data types of each column\n",
    "print(allratings_df.dtypes)"
   ]
  },
  {
   "cell_type": "code",
   "execution_count": 52,
   "id": "bd8288f8-4063-448c-bacd-d72d0362dcb7",
   "metadata": {
    "tags": []
   },
   "outputs": [
    {
     "name": "stdout",
     "output_type": "stream",
     "text": [
      "userId       0\n",
      "movieId      0\n",
      "rating       0\n",
      "timestamp    0\n",
      "dtype: int64\n"
     ]
    }
   ],
   "source": [
    "# Checking for any missing values\n",
    "print(allratings_df.isnull().sum())"
   ]
  },
  {
   "cell_type": "code",
   "execution_count": 53,
   "id": "f2a8544c-1886-4a0d-ae5f-a937d6c483fd",
   "metadata": {
    "tags": []
   },
   "outputs": [
    {
     "name": "stdout",
     "output_type": "stream",
     "text": [
      "Empty DataFrame\n",
      "Columns: [userId, movieId, rating, timestamp]\n",
      "Index: []\n"
     ]
    }
   ],
   "source": [
    "# Checking if there are duplicate ratings (same user rating the same movie more than once)\n",
    "\n",
    "# Identifying the duplicate ratings by filtering and grouping\n",
    "duplicate_ratings = allratings_df.groupby(['userId', 'movieId']).filter(lambda x: len(x) > 1)\n",
    "\n",
    "# Print any duplicate ratings (hoping it doesn't print any)\n",
    "print(duplicate_ratings)\n"
   ]
  },
  {
   "cell_type": "code",
   "execution_count": 54,
   "id": "e4aacf46-8310-460a-a1aa-a27fd48a1805",
   "metadata": {
    "tags": []
   },
   "outputs": [
    {
     "name": "stdout",
     "output_type": "stream",
     "text": [
      "   userId  movieId  rating  timestamp            datetime\n",
      "0       1        1     4.0  964982703 2000-07-30 18:45:03\n",
      "1       1        3     4.0  964981247 2000-07-30 18:20:47\n",
      "2       1        6     4.0  964982224 2000-07-30 18:37:04\n",
      "3       1       47     5.0  964983815 2000-07-30 19:03:35\n",
      "4       1       50     5.0  964982931 2000-07-30 18:48:51\n"
     ]
    }
   ],
   "source": [
    "# Despite there being no missing values or duplicates there is some cleaning and reformatting of the data that I thought was necessary\n",
    "\n",
    "# Converts the timestamp column from Unix time to datetime and saving it as a new column\n",
    "allratings_df['datetime'] = pd.to_datetime(allratings_df['timestamp'], unit='s')\n",
    "\n",
    "# Saves the cleaned DataFrame to cleanratings_df\n",
    "cleanratings_df = allratings_df.copy()\n",
    "\n",
    "# Prints the first few lines of the cleaned ratings dataframe\n",
    "print(cleanratings_df.head())\n"
   ]
  },
  {
   "cell_type": "markdown",
   "id": "00afefb2-948e-4c04-81d8-8d0b48d8d5d5",
   "metadata": {
    "tags": []
   },
   "source": [
    "## Part 2: Join the 2 Data Sources"
   ]
  },
  {
   "cell_type": "code",
   "execution_count": 55,
   "id": "a8149b50-0975-4a68-b582-3d934e6d025d",
   "metadata": {},
   "outputs": [
    {
     "name": "stdout",
     "output_type": "stream",
     "text": [
      "   userId  movieId  rating   timestamp            datetime      title                                       genres  year\n",
      "0       1        1     4.0   964982703 2000-07-30 18:45:03  Toy Story  Adventure,Animation,Children,Comedy,Fantasy  1995\n",
      "1       5        1     4.0   847434962 1996-11-08 06:36:02  Toy Story  Adventure,Animation,Children,Comedy,Fantasy  1995\n",
      "2       7        1     4.5  1106635946 2005-01-25 06:52:26  Toy Story  Adventure,Animation,Children,Comedy,Fantasy  1995\n",
      "3      15        1     2.5  1510577970 2017-11-13 12:59:30  Toy Story  Adventure,Animation,Children,Comedy,Fantasy  1995\n",
      "4      17        1     4.5  1305696483 2011-05-18 05:28:03  Toy Story  Adventure,Animation,Children,Comedy,Fantasy  1995\n",
      "        userId  movieId  rating   timestamp            datetime                      title                 genres  year\n",
      "100831     610   160341     2.5  1479545749 2016-11-19 08:55:49                  Bloodmoon        Action,Thriller  1997\n",
      "100832     610   160527     4.5  1479544998 2016-11-19 08:43:18  Sympathy for the Underdog     Action,Crime,Drama  1971\n",
      "100833     610   160836     3.0  1493844794 2017-05-03 20:53:14                     Hazard  Action,Drama,Thriller  2005\n",
      "100834     610   163937     3.5  1493848789 2017-05-03 21:59:49                Blair Witch        Horror,Thriller  2016\n",
      "100835     610   163981     3.5  1493850155 2017-05-03 22:22:35                         31                 Horror  2016\n"
     ]
    }
   ],
   "source": [
    "# Merging the clean movies data source with the clean rating data source\n",
    "\n",
    "# Matching the rows based on the common column, 'movieId'\n",
    "merged_df = pd.merge(cleanratings_df, cleanmovies_df, on='movieId', how='inner')\n",
    "\n",
    "# Checks the results\n",
    "print(merged_df.head()) # Looking at first 5 movies of the merged dataset\n",
    "print(merged_df.tail()) # Looking at last 5 movies of the merged dataset\n"
   ]
  },
  {
   "cell_type": "markdown",
   "id": "d2e1f23c-fa98-40a7-9287-143c5e3410a9",
   "metadata": {
    "tags": []
   },
   "source": [
    "## Part 3: Analyzing and Summarizing\n",
    "#### 3 Questions"
   ]
  },
  {
   "cell_type": "markdown",
   "id": "19070ea6-3611-419c-9858-45f4d77ac959",
   "metadata": {},
   "source": [
    "### Q1: What are the titles of the movies with the highest average ratings that belong exclusively to the Drama/Romance genre?\n",
    "**Results should be ordered from the earliest to the most recent year**"
   ]
  },
  {
   "cell_type": "code",
   "execution_count": 56,
   "id": "6aac66d8-1b04-4b17-9c21-0f9f79f9d280",
   "metadata": {
    "tags": []
   },
   "outputs": [
    {
     "name": "stdout",
     "output_type": "stream",
     "text": [
      "Movies with the highest average rating:\n",
      "\n",
      "Movie: Lamerica (1994)\n",
      "Average Rating: 5.00\n",
      "\n",
      "Movie: Heidi Fleiss: Hollywood Madam (1995)\n",
      "Average Rating: 5.00\n",
      "\n",
      "Movie: Awfully Big Adventure, An (1995)\n",
      "Average Rating: 5.00\n",
      "\n",
      "Movie: Live Nude Girls (1995)\n",
      "Average Rating: 5.00\n",
      "\n",
      "Movie: In the Realm of the Senses (Ai no corrida) (1976)\n",
      "Average Rating: 5.00\n",
      "\n",
      "Movie: What Happened Was... (1994)\n",
      "Average Rating: 5.00\n",
      "\n",
      "Movie: Thin Line Between Love and Hate, A (1996)\n",
      "Average Rating: 5.00\n",
      "\n",
      "Movie: Denise Calls Up (1995)\n",
      "Average Rating: 5.00\n",
      "\n",
      "Movie: Supercop 2 (Project S) (Chao ji ji hua) (1993)\n",
      "Average Rating: 5.00\n",
      "\n",
      "Movie: Entertaining Angels: The Dorothy Day Story (1996)\n",
      "Average Rating: 5.00\n",
      "\n",
      "Movie: Lesson Faust (1994)\n",
      "Average Rating: 5.00\n",
      "\n",
      "Movie: Hype! (1996)\n",
      "Average Rating: 5.00\n",
      "\n",
      "Movie: Vampire in Venice (Nosferatu a Venezia) (Nosferatu in Venice) (1986)\n",
      "Average Rating: 5.00\n",
      "\n",
      "Movie: Assignment, The (1997)\n",
      "Average Rating: 5.00\n",
      "\n",
      "Movie: Four Days in September (O Que É Isso, Companheiro?) (1997)\n",
      "Average Rating: 5.00\n",
      "\n",
      "Movie: Mephisto (1981)\n",
      "Average Rating: 5.00\n",
      "\n",
      "Movie: Knock Off (1998)\n",
      "Average Rating: 5.00\n",
      "\n",
      "Movie: Ballad of Narayama, The (Narayama bushiko) (1983)\n",
      "Average Rating: 5.00\n",
      "\n",
      "Movie: On the Ropes (1999)\n",
      "Average Rating: 5.00\n",
      "\n",
      "Movie: Man and a Woman, A (Un homme et une femme) (1966)\n",
      "Average Rating: 5.00\n",
      "\n",
      "Movie: Red Sorghum (Hong gao liang) (1987)\n",
      "Average Rating: 5.00\n",
      "\n",
      "Movie: Sandpiper, The (1965)\n",
      "Average Rating: 5.00\n",
      "\n",
      "Movie: Babes in Toyland (1934)\n",
      "Average Rating: 5.00\n",
      "\n",
      "Movie: My Man Godfrey (1957)\n",
      "Average Rating: 5.00\n",
      "\n",
      "Movie: Black Tar Heroin: The Dark End of the Street (2000)\n",
      "Average Rating: 5.00\n",
      "\n",
      "Movie: Jonah Who Will Be 25 in the Year 2000 (Jonas qui aura 25 ans en l'an 2000) (1976)\n",
      "Average Rating: 5.00\n",
      "\n",
      "Movie: Madame Sousatzka (1988)\n",
      "Average Rating: 5.00\n",
      "\n",
      "Movie: All the Vermeers in New York (1990)\n",
      "Average Rating: 5.00\n",
      "\n",
      "Movie: Bossa Nova (2000)\n",
      "Average Rating: 5.00\n",
      "\n",
      "Movie: Vagabond (Sans toit ni loi) (1985)\n",
      "Average Rating: 5.00\n",
      "\n",
      "Movie: Man with the Golden Arm, The (1955)\n",
      "Average Rating: 5.00\n",
      "\n",
      "Movie: Light Years (Gandahar) (1988)\n",
      "Average Rating: 5.00\n",
      "\n",
      "Movie: Duel in the Sun (1946)\n",
      "Average Rating: 5.00\n",
      "\n",
      "Movie: Five Senses, The (1999)\n",
      "Average Rating: 5.00\n",
      "\n",
      "Movie: I'm the One That I Want (2000)\n",
      "Average Rating: 5.00\n",
      "\n",
      "Movie: Slumber Party Massacre II (1987)\n",
      "Average Rating: 5.00\n",
      "\n",
      "Movie: Slumber Party Massacre III (1990)\n",
      "Average Rating: 5.00\n",
      "\n",
      "Movie: Sorority House Massacre (1986)\n",
      "Average Rating: 5.00\n",
      "\n",
      "Movie: Sorority House Massacre II (1990)\n",
      "Average Rating: 5.00\n",
      "\n",
      "Movie: Two Family House (2000)\n",
      "Average Rating: 5.00\n",
      "\n",
      "Movie: Hollywood Shuffle (1987)\n",
      "Average Rating: 5.00\n",
      "\n",
      "Movie: Monster Squad, The (1987)\n",
      "Average Rating: 5.00\n",
      "\n",
      "Movie: Reform School Girls (1986)\n",
      "Average Rating: 5.00\n",
      "\n",
      "Movie: Dr. Goldfoot and the Bikini Machine (1965)\n",
      "Average Rating: 5.00\n",
      "\n",
      "Movie: More (1998)\n",
      "Average Rating: 5.00\n",
      "\n",
      "Movie: Crossing Delancey (1988)\n",
      "Average Rating: 5.00\n",
      "\n",
      "Movie: Moscow Does Not Believe in Tears (Moskva slezam ne verit) (1979)\n",
      "Average Rating: 5.00\n",
      "\n",
      "Movie: When Worlds Collide (1951)\n",
      "Average Rating: 5.00\n",
      "\n",
      "Movie: Little Dieter Needs to Fly (1997)\n",
      "Average Rating: 5.00\n",
      "\n",
      "Movie: Going Places (Valseuses, Les) (1974)\n",
      "Average Rating: 5.00\n",
      "\n",
      "Movie: Seems Like Old Times (1980)\n",
      "Average Rating: 5.00\n",
      "\n",
      "Movie: Shogun Assassin (1980)\n",
      "Average Rating: 5.00\n",
      "\n",
      "Movie: Rain (2001)\n",
      "Average Rating: 5.00\n",
      "\n",
      "Movie: Cherish (2002)\n",
      "Average Rating: 5.00\n",
      "\n",
      "Movie: 20 Million Miles to Earth (1957)\n",
      "Average Rating: 5.00\n",
      "\n",
      "Movie: The Big Bus (1976)\n",
      "Average Rating: 5.00\n",
      "\n",
      "Movie: Martin Lawrence Live: Runteldat (2002)\n",
      "Average Rating: 5.00\n",
      "\n",
      "Movie: Satin Rouge (2002)\n",
      "Average Rating: 5.00\n",
      "\n",
      "Movie: Son of the Bride (Hijo de la novia, El) (2001)\n",
      "Average Rating: 5.00\n",
      "\n",
      "Movie: Continental Divide (1981)\n",
      "Average Rating: 5.00\n",
      "\n",
      "Movie: Four Seasons, The (1981)\n",
      "Average Rating: 5.00\n",
      "\n",
      "Movie: Galaxy of Terror (Quest) (1981)\n",
      "Average Rating: 5.00\n",
      "\n",
      "Movie: Brother (Brat) (1997)\n",
      "Average Rating: 5.00\n",
      "\n",
      "Movie: Cruel Romance, A (Zhestokij Romans) (1984)\n",
      "Average Rating: 5.00\n",
      "\n",
      "Movie: American Friend, The (Amerikanische Freund, Der) (1977)\n",
      "Average Rating: 5.00\n",
      "\n",
      "Movie: I, the Jury (1982)\n",
      "Average Rating: 5.00\n",
      "\n",
      "Movie: Open Hearts (Elsker dig for evigt) (2002)\n",
      "Average Rating: 5.00\n",
      "\n",
      "Movie: Lady Jane (1986)\n",
      "Average Rating: 5.00\n",
      "\n",
      "Movie: Siam Sunset (1999)\n",
      "Average Rating: 5.00\n",
      "\n",
      "Movie: Animals are Beautiful People (1974)\n",
      "Average Rating: 5.00\n",
      "\n",
      "Movie: Belle époque (1992)\n",
      "Average Rating: 5.00\n",
      "\n",
      "Movie: Umberto D. (1952)\n",
      "Average Rating: 5.00\n",
      "\n",
      "Movie: Come and See (Idi i smotri) (1985)\n",
      "Average Rating: 5.00\n",
      "\n",
      "Movie: Alien Contamination (1980)\n",
      "Average Rating: 5.00\n",
      "\n",
      "Movie: Jane Eyre (1944)\n",
      "Average Rating: 5.00\n",
      "\n",
      "Movie: Woman Under the Influence, A (1974)\n",
      "Average Rating: 5.00\n",
      "\n",
      "Movie: Rivers and Tides (2001)\n",
      "Average Rating: 5.00\n",
      "\n",
      "Movie: King of Hearts (1966)\n",
      "Average Rating: 5.00\n",
      "\n",
      "Movie: True Stories (1986)\n",
      "Average Rating: 5.00\n",
      "\n",
      "Movie: Little Murders (1971)\n",
      "Average Rating: 5.00\n",
      "\n",
      "Movie: Into the Woods (1991)\n",
      "Average Rating: 5.00\n",
      "\n",
      "Movie: Woman Is a Woman, A (femme est une femme, Une) (1961)\n",
      "Average Rating: 5.00\n",
      "\n",
      "Movie: Story of Women (Affaire de femmes, Une) (1988)\n",
      "Average Rating: 5.00\n",
      "\n",
      "Movie: Raise Your Voice (2004)\n",
      "Average Rating: 5.00\n",
      "\n",
      "Movie: Tales of Manhattan (1942)\n",
      "Average Rating: 5.00\n",
      "\n",
      "Movie: Mr. Skeffington (1944)\n",
      "Average Rating: 5.00\n",
      "\n",
      "Movie: Unfaithfully Yours (1948)\n",
      "Average Rating: 5.00\n",
      "\n",
      "Movie: Human Condition III, The (Ningen no joken III) (1961)\n",
      "Average Rating: 5.00\n",
      "\n",
      "Movie: Advise and Consent (1962)\n",
      "Average Rating: 5.00\n",
      "\n",
      "Movie: Thousand Clowns, A (1965)\n",
      "Average Rating: 5.00\n",
      "\n",
      "Movie: Branded to Kill (Koroshi no rakuin) (1967)\n",
      "Average Rating: 5.00\n",
      "\n",
      "Movie: Passenger, The (Professione: reporter) (1975)\n",
      "Average Rating: 5.00\n",
      "\n",
      "Movie: Harlan County U.S.A. (1976)\n",
      "Average Rating: 5.00\n",
      "\n",
      "Movie: Last Hurrah for Chivalry (Hao xia) (1979)\n",
      "Average Rating: 5.00\n",
      "\n",
      "Movie: Decalogue, The (Dekalog) (1989)\n",
      "Average Rating: 5.00\n",
      "\n",
      "Movie: Sonatine (Sonachine) (1993)\n",
      "Average Rating: 5.00\n",
      "\n",
      "Movie: Stand, The (1994)\n",
      "Average Rating: 5.00\n",
      "\n",
      "Movie: Summer's Tale, A (Conte d'été) (1996)\n",
      "Average Rating: 5.00\n",
      "\n",
      "Movie: Nine Lives of Tomas Katz, The (2000)\n",
      "Average Rating: 5.00\n",
      "\n",
      "Movie: 61* (2001)\n",
      "Average Rating: 5.00\n",
      "\n",
      "Movie: My Sassy Girl (Yeopgijeogin geunyeo) (2001)\n",
      "Average Rating: 5.00\n",
      "\n",
      "Movie: Battle Royale 2: Requiem (Batoru rowaiaru II: Chinkonka) (2003)\n",
      "Average Rating: 5.00\n",
      "\n",
      "Movie: 'Salem's Lot (2004)\n",
      "Average Rating: 5.00\n",
      "\n",
      "Movie: Marriage of Maria Braun, The (Ehe der Maria Braun, Die) (1979)\n",
      "Average Rating: 5.00\n",
      "\n",
      "Movie: Palindromes (2004)\n",
      "Average Rating: 5.00\n",
      "\n",
      "Movie: Saving Face (2004)\n",
      "Average Rating: 5.00\n",
      "\n",
      "Movie: Calcium Kid, The (2004)\n",
      "Average Rating: 5.00\n",
      "\n",
      "Movie: Match Factory Girl, The (Tulitikkutehtaan tyttö) (1990)\n",
      "Average Rating: 5.00\n",
      "\n",
      "Movie: 7 Faces of Dr. Lao (1964)\n",
      "Average Rating: 5.00\n",
      "\n",
      "Movie: Go for Zucker! (Alles auf Zucker!) (2004)\n",
      "Average Rating: 5.00\n",
      "\n",
      "Movie: 9/11 (2002)\n",
      "Average Rating: 5.00\n",
      "\n",
      "Movie: Peaceful Warrior (2006)\n",
      "Average Rating: 5.00\n",
      "\n",
      "Movie: Chump at Oxford, A (1940)\n",
      "Average Rating: 5.00\n",
      "\n",
      "Movie: Ugly Duckling and Me!, The (2006)\n",
      "Average Rating: 5.00\n",
      "\n",
      "Movie: Breed, The (2006)\n",
      "Average Rating: 5.00\n",
      "\n",
      "Movie: Sun Alley (Sonnenallee) (1999)\n",
      "Average Rating: 5.00\n",
      "\n",
      "Movie: Valet, The (La doublure) (2006)\n",
      "Average Rating: 5.00\n",
      "\n",
      "Movie: Ex Drummer (2007)\n",
      "Average Rating: 5.00\n",
      "\n",
      "Movie: Watching the Detectives (2007)\n",
      "Average Rating: 5.00\n",
      "\n",
      "Movie: Che: Part One (2008)\n",
      "Average Rating: 5.00\n",
      "\n",
      "Movie: Che: Part Two (2008)\n",
      "Average Rating: 5.00\n",
      "\n",
      "Movie: Strictly Sexual (2008)\n",
      "Average Rating: 5.00\n",
      "\n",
      "Movie: Boy Eats Girl (2005)\n",
      "Average Rating: 5.00\n",
      "\n",
      "Movie: Garfield's Pet Force (2009)\n",
      "Average Rating: 5.00\n",
      "\n",
      "Movie: Eichmann (2007)\n",
      "Average Rating: 5.00\n",
      "\n",
      "Movie: Max Manus (2008)\n",
      "Average Rating: 5.00\n",
      "\n",
      "Movie: Tyler Perry's I Can Do Bad All by Myself (2009)\n",
      "Average Rating: 5.00\n",
      "\n",
      "Movie: Love Exposure (Ai No Mukidashi) (2008)\n",
      "Average Rating: 5.00\n",
      "\n",
      "Movie: Mickey's Once Upon a Christmas (1999)\n",
      "Average Rating: 5.00\n",
      "\n",
      "Movie: Meantime (1984)\n",
      "Average Rating: 5.00\n",
      "\n",
      "Movie: Dream of Light (a.k.a. Quince Tree Sun, The) (Sol del membrillo, El) (1992)\n",
      "Average Rating: 5.00\n",
      "\n",
      "Movie: Mother (Madeo) (2009)\n",
      "Average Rating: 5.00\n",
      "\n",
      "Movie: 12 Angry Men (1997)\n",
      "Average Rating: 5.00\n",
      "\n",
      "Movie: Enter the Void (2009)\n",
      "Average Rating: 5.00\n",
      "\n",
      "Movie: Get Low (2009)\n",
      "Average Rating: 5.00\n",
      "\n",
      "Movie: Sisters (Syostry) (2001)\n",
      "Average Rating: 5.00\n",
      "\n",
      "Movie: Faster (2010)\n",
      "Average Rating: 5.00\n",
      "\n",
      "Movie: Down Argentine Way (1940)\n",
      "Average Rating: 5.00\n",
      "\n",
      "Movie: Zeitgeist: Moving Forward (2011)\n",
      "Average Rating: 5.00\n",
      "\n",
      "Movie: Girls About Town (1931)\n",
      "Average Rating: 5.00\n",
      "\n",
      "Movie: Scooby-Doo! Curse of the Lake Monster (2010)\n",
      "Average Rating: 5.00\n",
      "\n",
      "Movie: Connections (1978)\n",
      "Average Rating: 5.00\n",
      "\n",
      "Movie: Louis Theroux: Law & Disorder (2008)\n",
      "Average Rating: 5.00\n",
      "\n",
      "Movie: Idiots and Angels (2008)\n",
      "Average Rating: 5.00\n",
      "\n",
      "Movie: My Life as McDull (Mak dau goo si) (2001)\n",
      "Average Rating: 5.00\n",
      "\n",
      "Movie: Paper Birds (Pájaros de papel) (2010)\n",
      "Average Rating: 5.00\n",
      "\n",
      "Movie: Into the Abyss (2011)\n",
      "Average Rating: 5.00\n",
      "\n",
      "Movie: Asterix and the Vikings (Astérix et les Vikings) (2006)\n",
      "Average Rating: 5.00\n",
      "\n",
      "Movie: Happy Feet Two (2011)\n",
      "Average Rating: 5.00\n",
      "\n",
      "Movie: Dylan Moran: Monster (2004)\n",
      "Average Rating: 5.00\n",
      "\n",
      "Movie: Very Potter Sequel, A (2010)\n",
      "Average Rating: 5.00\n",
      "\n",
      "Movie: Miss Nobody (2010)\n",
      "Average Rating: 5.00\n",
      "\n",
      "Movie: Trailer Park Boys (1999)\n",
      "Average Rating: 5.00\n",
      "\n",
      "Movie: Eva (2011)\n",
      "Average Rating: 5.00\n",
      "\n",
      "Movie: Superman/Batman: Public Enemies (2009)\n",
      "Average Rating: 5.00\n",
      "\n",
      "Movie: Front of the Class (2008)\n",
      "Average Rating: 5.00\n",
      "\n",
      "Movie: Presto (2008)\n",
      "Average Rating: 5.00\n",
      "\n",
      "Movie: Goodbye Charlie (1964)\n",
      "Average Rating: 5.00\n",
      "\n",
      "Movie: Odd Life of Timothy Green, The (2012)\n",
      "Average Rating: 5.00\n",
      "\n",
      "Movie: Runaway Brain (1995)\n",
      "Average Rating: 5.00\n",
      "\n",
      "Movie: Holy Motors (2012)\n",
      "Average Rating: 5.00\n",
      "\n",
      "Movie: My Left Eye Sees Ghosts (Ngo joh aan gin diy gwai) (2002)\n",
      "Average Rating: 5.00\n",
      "\n",
      "Movie: English Vinglish (2012)\n",
      "Average Rating: 5.00\n",
      "\n",
      "Movie: Act of Killing, The (2012)\n",
      "Average Rating: 5.00\n",
      "\n",
      "Movie: Maniac Cop 2 (1990)\n",
      "Average Rating: 5.00\n",
      "\n",
      "Movie: Justice League: Doom (2012)\n",
      "Average Rating: 5.00\n",
      "\n",
      "Movie: Bill Hicks: Revelations (1993)\n",
      "Average Rating: 5.00\n",
      "\n",
      "Movie: Craig Ferguson: I'm Here To Help (2013)\n",
      "Average Rating: 5.00\n",
      "\n",
      "Movie: Mystery of the Third Planet, The (Tayna tretey planety) (1981)\n",
      "Average Rating: 5.00\n",
      "\n",
      "Movie: Only Lovers Left Alive (2013)\n",
      "Average Rating: 5.00\n",
      "\n",
      "Movie: Hunting Elephants (2013)\n",
      "Average Rating: 5.00\n",
      "\n",
      "Movie: Chinese Puzzle (Casse-tête chinois) (2013)\n",
      "Average Rating: 5.00\n",
      "\n",
      "Movie: Wonder Woman (2009)\n",
      "Average Rating: 5.00\n",
      "\n",
      "Movie: On the Other Side of the Tracks (De l'autre côté du périph) (2012)\n",
      "Average Rating: 5.00\n",
      "\n",
      "Movie: Garden of Words, The (Koto no ha no niwa) (2013)\n",
      "Average Rating: 5.00\n",
      "\n",
      "Movie: Particle Fever (2013)\n",
      "Average Rating: 5.00\n",
      "\n",
      "Movie: Colourful (Karafuru) (2010)\n",
      "Average Rating: 5.00\n",
      "\n",
      "Movie: One I Love, The (2014)\n",
      "Average Rating: 5.00\n",
      "\n",
      "Movie: Laggies (2014)\n",
      "Average Rating: 5.00\n",
      "\n",
      "Movie: Crippled Avengers (Can que) (Return of the 5 Deadly Venoms) (1981)\n",
      "Average Rating: 5.00\n",
      "\n",
      "Movie: Watermark (2014)\n",
      "Average Rating: 5.00\n",
      "\n",
      "Movie: Hellbenders (2012)\n",
      "Average Rating: 5.00\n",
      "\n",
      "Movie: National Lampoon's Bag Boy (2007)\n",
      "Average Rating: 5.00\n",
      "\n",
      "Movie: Scooby-Doo! Abracadabra-Doo (2010)\n",
      "Average Rating: 5.00\n",
      "\n",
      "Movie: Into the Forest of Fireflies' Light (2011)\n",
      "Average Rating: 5.00\n",
      "\n",
      "Movie: PK (2014)\n",
      "Average Rating: 5.00\n",
      "\n",
      "Movie: Stuart Little 3: Call of the Wild (2005)\n",
      "Average Rating: 5.00\n",
      "\n",
      "Movie: Guy X (2005)\n",
      "Average Rating: 5.00\n",
      "\n",
      "Movie: Snowflake, the White Gorilla (2011)\n",
      "Average Rating: 5.00\n",
      "\n",
      "Movie: Delirium (2014)\n",
      "Average Rating: 5.00\n",
      "\n",
      "Movie: A Flintstones Christmas Carol (1994)\n",
      "Average Rating: 5.00\n",
      "\n",
      "Movie: The Fox and the Hound 2 (2006)\n",
      "Average Rating: 5.00\n",
      "\n",
      "Movie: Trinity and Sartana Are Coming (1972)\n",
      "Average Rating: 5.00\n",
      "\n",
      "Movie: Tom Segura: Completely Normal (2014)\n",
      "Average Rating: 5.00\n",
      "\n",
      "Movie: George Carlin: It's Bad for Ya! (2008)\n",
      "Average Rating: 5.00\n",
      "\n",
      "Movie: George Carlin: Life Is Worth Losing (2005)\n",
      "Average Rating: 5.00\n",
      "\n",
      "Movie: Love and Pigeons (1985)\n",
      "Average Rating: 5.00\n",
      "\n",
      "Movie: Saving Santa (2013)\n",
      "Average Rating: 5.00\n",
      "\n",
      "Movie: Tom and Jerry: A Nutcracker Tale (2007)\n",
      "Average Rating: 5.00\n",
      "\n",
      "Movie: What Men Talk About (2010)\n",
      "Average Rating: 5.00\n",
      "\n",
      "Movie: Willy/Milly (1986)\n",
      "Average Rating: 5.00\n",
      "\n",
      "Movie: The Jinx: The Life and Deaths of Robert Durst (2015)\n",
      "Average Rating: 5.00\n",
      "\n",
      "Movie: Buzzard (2015)\n",
      "Average Rating: 5.00\n",
      "\n",
      "Movie: Seve (2014)\n",
      "Average Rating: 5.00\n",
      "\n",
      "Movie: What Love Is (2007)\n",
      "Average Rating: 5.00\n",
      "\n",
      "Movie: My Love (2006)\n",
      "Average Rating: 5.00\n",
      "\n",
      "Movie: Radio Day (2008)\n",
      "Average Rating: 5.00\n",
      "\n",
      "Movie: Bitter Lake (2015)\n",
      "Average Rating: 5.00\n",
      "\n",
      "Movie: Ghost Graduation (2012)\n",
      "Average Rating: 5.00\n",
      "\n",
      "Movie: Scooby-Doo! and the Samurai Sword (2009)\n",
      "Average Rating: 5.00\n",
      "\n",
      "Movie: Scooby-Doo! and the Loch Ness Monster (2004)\n",
      "Average Rating: 5.00\n",
      "\n",
      "Movie: Big Top Scooby-Doo! (2012)\n",
      "Average Rating: 5.00\n",
      "\n",
      "Movie: Scooby-Doo Goes Hollywood (1979)\n",
      "Average Rating: 5.00\n",
      "\n",
      "Movie: George Carlin: Back in Town (1996)\n",
      "Average Rating: 5.00\n",
      "\n",
      "Movie: George Carlin: You Are All Diseased (1999)\n",
      "Average Rating: 5.00\n",
      "\n",
      "Movie: Larry David: Curb Your Enthusiasm (1999)\n",
      "Average Rating: 5.00\n",
      "\n",
      "Movie: Tom and Jerry: Shiver Me Whiskers (2006)\n",
      "Average Rating: 5.00\n",
      "\n",
      "Movie: Kung Fu Panda: Secrets of the Masters (2011)\n",
      "Average Rating: 5.00\n",
      "\n",
      "Movie: The Eye: Infinity (2005)\n",
      "Average Rating: 5.00\n",
      "\n",
      "Movie: Villain (1971)\n",
      "Average Rating: 5.00\n",
      "\n",
      "Movie: Tokyo Tribe (2014)\n",
      "Average Rating: 5.00\n",
      "\n",
      "Movie: Return to Treasure Island (1988)\n",
      "Average Rating: 5.00\n",
      "\n",
      "Movie: Nasu: Summer in Andalusia (2003)\n",
      "Average Rating: 5.00\n",
      "\n",
      "Movie: Ooops! Noah is Gone... (2015)\n",
      "Average Rating: 5.00\n",
      "\n",
      "Movie: Hollywood Chainsaw Hookers (1988)\n",
      "Average Rating: 5.00\n",
      "\n",
      "Movie: George Carlin: Jammin' in New York (1992)\n",
      "Average Rating: 5.00\n",
      "\n",
      "Movie: Battle For Sevastopol (2015)\n",
      "Average Rating: 5.00\n",
      "\n",
      "Movie: Deathgasm (2015)\n",
      "Average Rating: 5.00\n",
      "\n",
      "Movie: 12 Chairs (1976)\n",
      "Average Rating: 5.00\n",
      "\n",
      "Movie: Bloodsucking Bastards (2015)\n",
      "Average Rating: 5.00\n",
      "\n",
      "Movie: Oscar (1967)\n",
      "Average Rating: 5.00\n",
      "\n",
      "Movie: The Editor (2015)\n",
      "Average Rating: 5.00\n",
      "\n",
      "Movie: Jump In! (2007)\n",
      "Average Rating: 5.00\n",
      "\n",
      "Movie: Human (2015)\n",
      "Average Rating: 5.00\n",
      "\n",
      "Movie: L.A. Slasher (2015)\n",
      "Average Rating: 5.00\n",
      "\n",
      "Movie: Formula of Love (1984)\n",
      "Average Rating: 5.00\n",
      "\n",
      "Movie: Dragons: Gift of the Night Fury (2011)\n",
      "Average Rating: 5.00\n",
      "\n",
      "Movie: Cosmic Scrat-tastrophe (2015)\n",
      "Average Rating: 5.00\n",
      "\n",
      "Movie: The Girls (1961)\n",
      "Average Rating: 5.00\n",
      "\n",
      "Movie: The Adventures of Sherlock Holmes and Doctor Watson: The Treasures of Agra (1983)\n",
      "Average Rating: 5.00\n",
      "\n",
      "Movie: Adventures Of Sherlock Holmes And Dr. Watson: The Twentieth Century Approaches (1986)\n",
      "Average Rating: 5.00\n",
      "\n",
      "Movie: The Adventures of Sherlock Holmes and Doctor Watson: King of Blackmailers (1980)\n",
      "Average Rating: 5.00\n",
      "\n",
      "Movie: The Adventures of Sherlock Holmes and Dr. Watson: Bloody Signature (1979)\n",
      "Average Rating: 5.00\n",
      "\n",
      "Movie: Sherlock Holmes and Dr. Watson: Acquaintance (1979)\n",
      "Average Rating: 5.00\n",
      "\n",
      "Movie: A Perfect Day (2015)\n",
      "Average Rating: 5.00\n",
      "\n",
      "Movie: Lumberjack Man (2015)\n",
      "Average Rating: 5.00\n",
      "\n",
      "Movie: Spellbound (2011)\n",
      "Average Rating: 5.00\n",
      "\n",
      "Movie: Unicorn City (2012)\n",
      "Average Rating: 5.00\n",
      "\n",
      "Movie: The Love Bug (1997)\n",
      "Average Rating: 5.00\n",
      "\n",
      "Movie: Three from Prostokvashino (1978)\n",
      "Average Rating: 5.00\n",
      "\n",
      "Movie: Who Killed Chea Vichea? (2010)\n",
      "Average Rating: 5.00\n",
      "\n",
      "Movie: Ice Age: The Great Egg-Scapade (2016)\n",
      "Average Rating: 5.00\n",
      "\n",
      "Movie: Tenchi Muyô! In Love (1996)\n",
      "Average Rating: 5.00\n",
      "\n",
      "Movie: SORI: Voice from the Heart (2016)\n",
      "Average Rating: 5.00\n",
      "\n",
      "Movie: World of Glory (1991)\n",
      "Average Rating: 5.00\n",
      "\n",
      "Movie: All Yours (2016)\n",
      "Average Rating: 5.00\n",
      "\n",
      "Movie: The Bremen Town Musicians (1969)\n",
      "Average Rating: 5.00\n",
      "\n",
      "Movie: Indignation (2016)\n",
      "Average Rating: 5.00\n",
      "\n",
      "Movie: Tom Segura: Mostly Stories (2016)\n",
      "Average Rating: 5.00\n",
      "\n",
      "Movie: Winnie Pooh (1969)\n",
      "Average Rating: 5.00\n",
      "\n",
      "Movie: Winnie the Pooh Goes Visiting (1971)\n",
      "Average Rating: 5.00\n",
      "\n",
      "Movie: Winnie the Pooh and the Day of Concern (1972)\n",
      "Average Rating: 5.00\n",
      "\n",
      "Movie: Wings, Legs and Tails (1986)\n",
      "Average Rating: 5.00\n",
      "\n",
      "Movie: The Girl with All the Gifts (2016)\n",
      "Average Rating: 5.00\n",
      "\n",
      "Movie: Alesha Popovich and Tugarin the Dragon (2004)\n",
      "Average Rating: 5.00\n",
      "\n",
      "Movie: Junior and Karlson (1968)\n",
      "Average Rating: 5.00\n",
      "\n",
      "Movie: I Am Not Your Negro (2017)\n",
      "Average Rating: 5.00\n",
      "\n",
      "Movie: A Plasticine Crow (1981)\n",
      "Average Rating: 5.00\n",
      "\n",
      "Movie: There Once Was a Dog (1982)\n",
      "Average Rating: 5.00\n",
      "\n",
      "Movie: Last Year's Snow Was Falling (1983)\n",
      "Average Rating: 5.00\n",
      "\n",
      "Movie: Investigation Held by Kolobki (1986)\n",
      "Average Rating: 5.00\n",
      "\n",
      "Movie: Karlson Returns (1970)\n",
      "Average Rating: 5.00\n",
      "\n",
      "Movie: Vacations in Prostokvashino (1980)\n",
      "Average Rating: 5.00\n",
      "\n",
      "Movie: Winter in Prostokvashino (1984)\n",
      "Average Rating: 5.00\n",
      "\n",
      "Movie: Priklyucheniya Kapitana Vrungelya (1979)\n",
      "Average Rating: 5.00\n",
      "\n",
      "Movie: Tickling Giants (2017)\n",
      "Average Rating: 5.00\n",
      "\n",
      "Movie: Vovka in the Kingdom of Far Far Away (1965)\n",
      "Average Rating: 5.00\n",
      "\n",
      "Movie: A Detective Story (2003)\n",
      "Average Rating: 5.00\n",
      "\n",
      "Movie: Cheburashka (1971)\n",
      "Average Rating: 5.00\n",
      "\n",
      "Movie: Wow! A Talking Fish! (1983)\n",
      "Average Rating: 5.00\n",
      "\n",
      "Movie: Travels of an Ant (1983)\n",
      "Average Rating: 5.00\n",
      "\n",
      "Movie: Fugitives (1986)\n",
      "Average Rating: 5.00\n",
      "\n",
      "Movie: Empties (2007)\n",
      "Average Rating: 5.00\n",
      "\n",
      "Movie: Obsession (1965)\n",
      "Average Rating: 5.00\n",
      "\n",
      "Movie: Gena the Crocodile (1969)\n",
      "Average Rating: 5.00\n",
      "\n",
      "Movie: On the Trail of the Bremen Town Musicians (1973)\n",
      "Average Rating: 5.00\n",
      "\n",
      "Movie: In the blue sea, in the white foam. (1984)\n",
      "Average Rating: 5.00\n",
      "\n",
      "Movie: Bobik Visiting Barbos (1977)\n",
      "Average Rating: 5.00\n",
      "\n",
      "Movie: Loving Vincent (2017)\n",
      "Average Rating: 5.00\n",
      "\n",
      "Movie: Blue Planet II (2017)\n",
      "Average Rating: 5.00\n",
      "\n",
      "Movie: De platte jungle (1978)\n",
      "Average Rating: 5.00\n",
      "\n",
      "Movie: Won't You Be My Neighbor? (2018)\n",
      "Average Rating: 5.00\n",
      "\n"
     ]
    }
   ],
   "source": [
    "# Calculates the average rating for each movie\n",
    "avg_ratings = merged_df.groupby(['movieId', 'title', 'year'])['rating'].mean().reset_index(name='avg_rating')\n",
    "\n",
    "# Calculates the highest average rating\n",
    "highest_avg_rating = avg_ratings['avg_rating'].max()\n",
    "\n",
    "# Filters the dataframe to get all movies with the highest average rating\n",
    "highest_rated_movies = avg_ratings[avg_ratings['avg_rating'] == highest_avg_rating] # Creates new data frame that contains only the rows where the average rating is equal to the highest average rating \n",
    "\n",
    "# Prints the title, year, and average rating of each movie with the highest average rating\n",
    "print(\"Movies with the highest average rating:\\n\")\n",
    "for index, row in highest_rated_movies.iterrows():\n",
    "    print(f\"Movie: {row['title']} ({row['year']})\")\n",
    "    print(f\"Average Rating: {row['avg_rating']:.2f}\\n\")\n"
   ]
  },
  {
   "cell_type": "code",
   "execution_count": 57,
   "id": "1dc7f034-21b8-49f9-aab7-4e20ae461afe",
   "metadata": {
    "tags": []
   },
   "outputs": [
    {
     "name": "stdout",
     "output_type": "stream",
     "text": [
      "Movie: Moscow Does Not Believe in Tears (Moskva slezam ne verit) (1979)\n",
      "Average Rating: 5.00\n",
      "Genres: Drama,Romance\n",
      "\n",
      "Movie: Cruel Romance, A (Zhestokij Romans) (1984)\n",
      "Average Rating: 5.00\n",
      "Genres: Drama,Romance\n",
      "\n",
      "Movie: Man and a Woman, A (Un homme et une femme) (1966)\n",
      "Average Rating: 5.00\n",
      "Genres: Drama,Romance\n",
      "\n",
      "Movie: Mr. Skeffington (1944)\n",
      "Average Rating: 5.00\n",
      "Genres: Drama,Romance\n",
      "\n",
      "Movie: Jane Eyre (1944)\n",
      "Average Rating: 5.00\n",
      "Genres: Drama,Romance\n",
      "\n",
      "Movie: Rain (2001)\n",
      "Average Rating: 5.00\n",
      "Genres: Drama,Romance\n",
      "\n",
      "Movie: Lady Jane (1986)\n",
      "Average Rating: 5.00\n",
      "Genres: Drama,Romance\n",
      "\n",
      "Movie: Sandpiper, The (1965)\n",
      "Average Rating: 5.00\n",
      "Genres: Drama,Romance\n",
      "\n"
     ]
    }
   ],
   "source": [
    "# Filters for movies that are in both 'Drama' and 'Romance' genres\n",
    "filtered_movies = merged_df[merged_df['genres'].str.contains('Drama', case=False, na=False) &\n",
    "                            merged_df['genres'].str.contains('Romance', case=False, na=False)]\n",
    "\n",
    "# Excludes movies that contain genres other than 'Drama' and 'Romance'\n",
    "filtered_movies = filtered_movies[filtered_movies['genres'].apply(lambda x: sorted(x.split(',')) == ['Drama', 'Romance'])]\n",
    "\n",
    "# Merges with avg_ratings to get the avg_rating column\n",
    "highest_rated_filtered_movies = filtered_movies.merge(avg_ratings[['movieId', 'avg_rating']], on='movieId', how='left')\n",
    "\n",
    "# Filters for movies with the highest average rating\n",
    "highest_rated_filtered_movies = highest_rated_filtered_movies[highest_rated_filtered_movies['avg_rating'] == highest_avg_rating]\n",
    "\n",
    "# Prints the title, year, average rating, and genre of each movie with the highest average rating and are just Drama/Romance genre\n",
    "for index, row in highest_rated_filtered_movies.iterrows():\n",
    "    print(f\"Movie: {row['title']} ({row['year']})\")\n",
    "    print(f\"Average Rating: {row['avg_rating']:.2f}\")\n",
    "    print(f\"Genres: {row['genres']}\\n\")\n"
   ]
  },
  {
   "cell_type": "code",
   "execution_count": 58,
   "id": "bf08011e-16b9-4bf6-9fcb-c28ea5925fab",
   "metadata": {
    "tags": []
   },
   "outputs": [
    {
     "name": "stdout",
     "output_type": "stream",
     "text": [
      "Movie: Mr. Skeffington (1944)\n",
      "Average Rating: 5.00\n",
      "Genres: Drama,Romance\n",
      "\n",
      "Movie: Jane Eyre (1944)\n",
      "Average Rating: 5.00\n",
      "Genres: Drama,Romance\n",
      "\n",
      "Movie: Sandpiper, The (1965)\n",
      "Average Rating: 5.00\n",
      "Genres: Drama,Romance\n",
      "\n",
      "Movie: Man and a Woman, A (Un homme et une femme) (1966)\n",
      "Average Rating: 5.00\n",
      "Genres: Drama,Romance\n",
      "\n",
      "Movie: Moscow Does Not Believe in Tears (Moskva slezam ne verit) (1979)\n",
      "Average Rating: 5.00\n",
      "Genres: Drama,Romance\n",
      "\n",
      "Movie: Cruel Romance, A (Zhestokij Romans) (1984)\n",
      "Average Rating: 5.00\n",
      "Genres: Drama,Romance\n",
      "\n",
      "Movie: Lady Jane (1986)\n",
      "Average Rating: 5.00\n",
      "Genres: Drama,Romance\n",
      "\n",
      "Movie: Rain (2001)\n",
      "Average Rating: 5.00\n",
      "Genres: Drama,Romance\n",
      "\n"
     ]
    }
   ],
   "source": [
    "# Sorts the filtered dataframe from above from oldest to most recent\n",
    "highest_rated_filtered_movies = highest_rated_filtered_movies.sort_values(by='year', ascending=True)\n",
    "\n",
    "# Prints the filtered movies from above but from oldest to most recent \n",
    "for index, row in highest_rated_filtered_movies.iterrows():\n",
    "    print(f\"Movie: {row['title']} ({row['year']})\")\n",
    "    print(f\"Average Rating: {row['avg_rating']:.2f}\")\n",
    "    print(f\"Genres: {row['genres']}\\n\")\n"
   ]
  },
  {
   "cell_type": "markdown",
   "id": "e564eb44-eef5-4cb9-bce2-993430fe985f",
   "metadata": {},
   "source": [
    "### Q2: First, how do the first and last ratings of each movie compare? \n",
    "#### Specifically, which movies have a rating increase of at least 4 points from the first to the last rating, and what are their titles and corresponding datetimes? "
   ]
  },
  {
   "cell_type": "code",
   "execution_count": 59,
   "id": "40bdb976-9f06-4007-aa39-5f5cc818618a",
   "metadata": {
    "tags": []
   },
   "outputs": [
    {
     "name": "stdout",
     "output_type": "stream",
     "text": [
      "      movieId                               title  first_rating  last_rating      first_datetime       last_datetime\n",
      "0           1                           Toy Story           4.0          5.0 2000-07-30 18:45:03 2016-11-19 08:08:20\n",
      "1           2                             Jumanji           4.0          2.0 1996-10-17 11:58:42 2005-05-30 22:06:26\n",
      "2           3                    Grumpier Old Men           4.0          2.0 2000-07-30 18:20:47 2005-05-31 01:53:33\n",
      "3           4                   Waiting to Exhale           3.0          1.5 1996-10-17 12:12:29 2009-03-22 22:14:15\n",
      "4           5         Father of the Bride Part II           5.0          3.0 1996-10-17 12:05:38 1996-05-14 13:25:55\n",
      "...       ...                                 ...           ...          ...                 ...                 ...\n",
      "9719   193581  Black Butler: Book of the Atlantic           4.0          4.0 2018-09-16 14:44:42 2018-09-16 14:44:42\n",
      "9720   193583               No Game No Life: Zero           3.5          3.5 2018-09-16 14:52:25 2018-09-16 14:52:25\n",
      "9721   193585                               Flint           3.5          3.5 2018-09-16 14:56:45 2018-09-16 14:56:45\n",
      "9722   193587        Bungo Stray Dogs: Dead Apple           3.5          3.5 2018-09-16 15:00:21 2018-09-16 15:00:21\n",
      "9723   193609        Andrew Dice Clay: Dice Rules           4.0          4.0 2018-09-17 04:13:26 2018-09-17 04:13:26\n",
      "\n",
      "[9724 rows x 6 columns]\n"
     ]
    }
   ],
   "source": [
    "# Groups the data and retrieves the first and last ratings and first and last datetimes for each movie and its corresponding title \n",
    "rating_comparison = merged_df.groupby('movieId').agg(\n",
    "    first_rating=('rating', 'first'),\n",
    "    last_rating=('rating', 'last'),\n",
    "    first_datetime=('datetime', 'first'),\n",
    "    last_datetime=('datetime', 'last'),\n",
    "    title=('title', 'first')\n",
    ").reset_index()\n",
    "\n",
    "# Displays the comparison of the ratings along with printing the movieId, movie title, and the first and last datetimes\n",
    "print(rating_comparison[['movieId', 'title', 'first_rating', 'last_rating', 'first_datetime', 'last_datetime']])\n"
   ]
  },
  {
   "cell_type": "markdown",
   "id": "acc2f069-4dd8-4c91-bfb5-835faea94703",
   "metadata": {},
   "source": [
    "#### Dives into the specifics of the movies with an increased rating of at least 4:"
   ]
  },
  {
   "cell_type": "code",
   "execution_count": 60,
   "id": "f0424a84-1bf4-4d74-be4b-9612259b3ecb",
   "metadata": {
    "tags": []
   },
   "outputs": [
    {
     "name": "stdout",
     "output_type": "stream",
     "text": [
      "      movieId                                            title  first_rating  last_rating      first_datetime       last_datetime\n",
      "585       720  Wallace & Gromit: The Best of Aardman Animation           0.5          4.5 2011-05-27 02:33:15 2017-06-27 03:23:52\n",
      "619       784                                   Cable Guy, The           1.0          5.0 1996-06-22 11:20:47 2016-11-19 08:38:43\n",
      "667       879                                       Relic, The           1.0          5.0 2000-08-08 03:26:35 1997-05-18 17:33:40\n",
      "696       914                                     My Fair Lady           0.5          5.0 2011-05-27 02:32:47 2007-02-11 21:20:46\n",
      "911      1211        Wings of Desire (Himmel über Berlin, Der)           1.0          5.0 2000-07-25 15:33:25 2007-02-13 14:18:23\n",
      "961      1263                                 Deer Hunter, The           0.5          5.0 2011-05-27 02:32:49 2000-03-24 19:41:40\n",
      "970      1272                                           Patton           0.5          5.0 2011-05-27 02:33:44 1999-11-03 12:13:17\n",
      "1532     2068        Fanny and Alexander (Fanny och Alexander)           0.5          5.0 2005-01-10 22:28:43 2000-03-24 19:56:27\n",
      "1729     2324              Life Is Beautiful (La Vita è bella)           1.0          5.0 2000-07-26 14:43:10 2007-02-12 20:16:33\n",
      "2421     3223                             Zed & Two Noughts, A           1.0          5.0 2000-02-21 06:05:36 2000-03-24 20:06:49\n",
      "3502     4794                                            Opera           0.5          5.0 2005-02-21 01:52:28 2016-11-19 08:40:31\n",
      "3850     5419                                       Scooby-Doo           0.5          5.0 2003-05-27 12:17:37 2002-10-23 23:29:06\n",
      "4010     5673                                 Punch-Drunk Love           0.5          5.0 2010-03-16 08:11:08 2017-05-03 21:00:52\n",
      "6405    51255                                         Hot Fuzz           1.0          5.0 2009-02-11 07:41:08 2016-11-19 08:02:51\n",
      "6786    60766                                      Man on Wire           0.5          4.5 2010-03-16 08:02:59 2017-05-03 21:39:43\n",
      "7581    86644          Fast Five (Fast and the Furious 5, The)           0.5          4.5 2017-02-05 12:20:52 2017-05-03 21:19:54\n",
      "7660    89118         Skin I Live In, The (La piel que habito)           0.5          4.5 2018-02-09 17:34:58 2017-05-03 21:49:57\n",
      "8114   101577                                        Host, The           1.0          5.0 2014-05-03 20:07:04 2015-05-03 01:34:04\n",
      "8354   109374                        Grand Budapest Hotel, The           0.5          4.5 2016-02-12 18:38:35 2017-05-03 20:58:57\n",
      "8617   119141                                    The Interview           0.5          4.5 2014-12-28 19:12:19 2016-12-15 16:01:49\n",
      "8791   130634                                        Furious 7           0.5          4.5 2017-02-05 12:20:55 2017-05-03 21:20:03\n"
     ]
    }
   ],
   "source": [
    "# Filter movies where the last rating is 4 or more greater than the first rating\n",
    "updated_rating_comparison = rating_comparison[rating_comparison['last_rating'] - rating_comparison['first_rating'] >= 4]\n",
    "\n",
    "# Displays the information of those movies with an increased rating of at least 4\n",
    "print(updated_rating_comparison[['movieId', 'title', 'first_rating', 'last_rating', 'first_datetime', 'last_datetime']])"
   ]
  },
  {
   "cell_type": "markdown",
   "id": "9d6a682d-b0ce-4ef4-8181-29267112f1cb",
   "metadata": {},
   "source": [
    "### Q3: What are the movie titles and ratings of the movies rated by User 19? (userId = 19)\n",
    "#### Follow-up questions: \n",
    "##### What is User 19's average rating? \n",
    "##### How many 5 star ratings has User 19 given and what are the titles of those movies? \n",
    "##### What are the titles of the first 50 movies of User 19's lowest rated movies?"
   ]
  },
  {
   "cell_type": "code",
   "execution_count": 61,
   "id": "b7723729-ca03-4d30-af18-9a75104943ad",
   "metadata": {
    "tags": []
   },
   "outputs": [
    {
     "name": "stdout",
     "output_type": "stream",
     "text": [
      "                                                   title  rating\n",
      "23704                                Defending Your Life     5.0\n",
      "14612                           Who Framed Roger Rabbit?     5.0\n",
      "63004  Adventures of Buckaroo Banzai Across the 8th D...     5.0\n",
      "63794                                     Empire Records     5.0\n",
      "58832                                           Heathers     5.0\n",
      "...                                                  ...     ...\n",
      "5871                                 Alice in Wonderland     1.0\n",
      "64286                                         Hollow Man     1.0\n",
      "5043                                           Space Jam     1.0\n",
      "64331                                        Phantasm II     1.0\n",
      "64334                              Phantasm IV: Oblivion     1.0\n",
      "\n",
      "[703 rows x 2 columns]\n"
     ]
    }
   ],
   "source": [
    "# Filters the merged_df and retreives the movie titles and ratings for user 19\n",
    "user_19_ratings = merged_df[merged_df['userId'] == 19][['title', 'rating']]\n",
    "\n",
    "# Sorts the data frame by descending order\n",
    "user_19_ratings_sorted = user_19_ratings.sort_values(by='rating', ascending=False)\n",
    "\n",
    "# Prints the sorted user 19 data frame\n",
    "print(user_19_ratings_sorted)"
   ]
  },
  {
   "cell_type": "code",
   "execution_count": 62,
   "id": "d71829a3-bf75-4bf8-9dd2-92dfcc46f9b5",
   "metadata": {
    "tags": []
   },
   "outputs": [
    {
     "name": "stdout",
     "output_type": "stream",
     "text": [
      "User 19's average rating: 2.607396870554765\n"
     ]
    }
   ],
   "source": [
    "# Calculates the average of all the ratings given by user 19\n",
    "user_19_avg_rating = user_19_ratings['rating'].mean()\n",
    "\n",
    "# Prints User 19's average rating\n",
    "print(f\"User 19's average rating: {user_19_avg_rating}\")\n"
   ]
  },
  {
   "cell_type": "code",
   "execution_count": 63,
   "id": "351af145-aaba-467c-9218-d6d68f126058",
   "metadata": {
    "tags": []
   },
   "outputs": [
    {
     "name": "stdout",
     "output_type": "stream",
     "text": [
      "User 19 has rated 26 movies with 5 stars.\n",
      "                                                   title  rating\n",
      "4128                                              Batman     5.0\n",
      "6458                          E.T. the Extra-Terrestrial     5.0\n",
      "6992                                 Princess Bride, The     5.0\n",
      "7138   Raiders of the Lost Ark (Indiana Jones and the...     5.0\n",
      "9070                  Indiana Jones and the Last Crusade     5.0\n",
      "10481                                          Labyrinth     5.0\n",
      "14330                                         Fight Club     5.0\n",
      "14612                           Who Framed Roger Rabbit?     5.0\n",
      "20487                                        Rear Window     5.0\n",
      "23704                                Defending Your Life     5.0\n",
      "26721                         Terminator 2: Judgment Day     5.0\n",
      "31216                                          Crow, The     5.0\n",
      "45704                                 Fifth Element, The     5.0\n",
      "48718                                Maltese Falcon, The     5.0\n",
      "49529                                        Mystery Men     5.0\n",
      "51981                    Star Trek II: The Wrath of Khan     5.0\n",
      "52519                           Ferris Bueller's Day Off     5.0\n",
      "57940                    Nightmare Before Christmas, The     5.0\n",
      "58436                                            Vertigo     5.0\n",
      "58832                                           Heathers     5.0\n",
      "59099             Star Trek VI: The Undiscovered Country     5.0\n",
      "59948                              Life Less Ordinary, A     5.0\n",
      "62863                                       Time Bandits     5.0\n",
      "63004  Adventures of Buckaroo Banzai Across the 8th D...     5.0\n",
      "63503                                  Muppet Movie, The     5.0\n",
      "63794                                     Empire Records     5.0\n"
     ]
    }
   ],
   "source": [
    "# Selects only the movies that user 19 has given a 5.0 to\n",
    "five_star_ratings = user_19_ratings[user_19_ratings['rating'] == 5]\n",
    "\n",
    "# Prints the results\n",
    "print(f\"User 19 has rated {len(five_star_ratings)} movies with 5 stars.\") # Outputs the number of movies User 19 has given a 5.0 to\n",
    "print(five_star_ratings[['title', 'rating']]) # Outputs all of these movies with their title and rating\n"
   ]
  },
  {
   "cell_type": "code",
   "execution_count": 64,
   "id": "0fe806f3-9b64-4aac-a4a4-354575a6424f",
   "metadata": {
    "tags": []
   },
   "outputs": [
    {
     "name": "stdout",
     "output_type": "stream",
     "text": [
      "                                               title  rating\n",
      "64334                          Phantasm IV: Oblivion     1.0\n",
      "64331                                    Phantasm II     1.0\n",
      "64286                                     Hollow Man     1.0\n",
      "63115                               Fatal Attraction     1.0\n",
      "63188                     Deuce Bigalow: Male Gigolo     1.0\n",
      "63205                                      Supernova     1.0\n",
      "63251                            Eye of the Beholder     1.0\n",
      "62496                               Inspector Gadget     1.0\n",
      "62587                               Deadtime Stories     1.0\n",
      "62066                                  Deadly Friend     1.0\n",
      "62112                                   Pet Sematary     1.0\n",
      "62192                                  Baby Geniuses     1.0\n",
      "62262                Chopping Mall (a.k.a. Killbots)     1.0\n",
      "62275                                   Superman III     1.0\n",
      "62297               Superman IV: The Quest for Peace     1.0\n",
      "61671                                   Fletch Lives     1.0\n",
      "60297                                       Palmetto     1.0\n",
      "60302                                           Hush     1.0\n",
      "60315                            Two Girls and a Guy     1.0\n",
      "60381                                     Species II     1.0\n",
      "60390                              Quest for Camelot     1.0\n",
      "60528  Nightmare on Elm Street 5: The Dream Child, A     1.0\n",
      "59627                                       Anaconda     1.0\n",
      "59668                        Speed 2: Cruise Control     1.0\n",
      "59687                                 Batman & Robin     1.0\n",
      "59990                                           Bean     1.0\n",
      "60041                            Alien: Resurrection     1.0\n",
      "59052                                 101 Dalmatians     1.0\n",
      "59141                Star Trek V: The Final Frontier     1.0\n",
      "59469                                     Turbulence     1.0\n",
      "58351                                         Kazaam     1.0\n",
      "58432                                     Relic, The     1.0\n",
      "52043                 Lost World: Jurassic Park, The     1.0\n",
      "52938                                    Scary Movie     1.0\n",
      "57578                    Dracula: Dead and Loving It     1.0\n",
      "57597                                     Pocahontas     1.0\n",
      "57698                                    Judge Dredd     1.0\n",
      "57797                                  Reality Bites     1.0\n",
      "11992          I Still Know What You Did Last Summer     1.0\n",
      "46148                               Bicentennial Man     1.0\n",
      "34694                                 Wild Wild West     1.0\n",
      "34749                                Ghostbusters II     1.0\n",
      "39964                             Lawnmower Man, The     1.0\n",
      "40217                                       Phantasm     1.0\n",
      "44167                           Jane Austen's Mafia!     1.0\n",
      "44573                                  Event Horizon     1.0\n",
      "32773                                         Sirens     1.0\n",
      "32786                                         Sliver     1.0\n",
      "33123                                     Diabolique     1.0\n",
      "33246                                     Striptease     1.0\n"
     ]
    }
   ],
   "source": [
    "# Sorts the data frame by ascending order then selects the 50 movies with the lowest ratings given by User 19\n",
    "lowest_rated_by_user_19 = user_19_ratings.sort_values(by='rating').head(50)\n",
    "\n",
    "# Prints the title and rating of User 19's lowest rated movies\n",
    "print(lowest_rated_by_user_19[['title', 'rating']])"
   ]
  },
  {
   "cell_type": "markdown",
   "id": "399d1d8e-1197-497c-95c0-9b966bb2936e",
   "metadata": {
    "tags": []
   },
   "source": [
    "## Part 4: Outputs and Summary"
   ]
  },
  {
   "cell_type": "markdown",
   "id": "489713fa-388d-4a6a-a9d8-7c38eb9aab4a",
   "metadata": {},
   "source": [
    "Here are the resulting outputs from each of the questions above"
   ]
  },
  {
   "cell_type": "code",
   "execution_count": 65,
   "id": "f23cb53b-f64e-4e0c-b43a-c0872350bdd4",
   "metadata": {},
   "outputs": [],
   "source": [
    "# Q1 results output\n",
    "highest_rated_filtered_movies.to_csv('highest_avg_rated_drama_romance.csv', index=False)"
   ]
  },
  {
   "cell_type": "code",
   "execution_count": 66,
   "id": "4e27d6e8-d564-4373-b54c-29fd204e7d86",
   "metadata": {
    "tags": []
   },
   "outputs": [],
   "source": [
    "# Q2 results output\n",
    "updated_rating_comparison.to_csv('rating_improve_4_more.csv', index=False)"
   ]
  },
  {
   "cell_type": "code",
   "execution_count": 67,
   "id": "e41611cd-9b2b-4e33-9321-82852dba8b8a",
   "metadata": {
    "tags": []
   },
   "outputs": [],
   "source": [
    "# Q3 results output\n",
    "user_19_ratings_sorted.to_csv('user_19_ratings_sorted.csv', index=False)"
   ]
  },
  {
   "cell_type": "markdown",
   "id": "a1ed3858-8d28-468b-a84d-ce70ceaa36ca",
   "metadata": {},
   "source": [
    "In conclusion, by analyzing the highest-rated Drama/Romance films, tracking how ratings evolve over time, and examining individual user preferences, this project offers practical insights that can help viewers find highly recommended films. Whether you're seeking critically acclaimed movies or curious about how certain films are perceived over time, the outputs from this project make it easier to pick a movie that aligns with your tastes and rating trends."
   ]
  },
  {
   "cell_type": "code",
   "execution_count": null,
   "id": "07777d8c-ce37-4aa1-9dd6-e348db4aadb3",
   "metadata": {},
   "outputs": [],
   "source": []
  }
 ],
 "metadata": {
  "kernelspec": {
   "display_name": "Python 3 (ipykernel)",
   "language": "python",
   "name": "python3"
  },
  "language_info": {
   "codemirror_mode": {
    "name": "ipython",
    "version": 3
   },
   "file_extension": ".py",
   "mimetype": "text/x-python",
   "name": "python",
   "nbconvert_exporter": "python",
   "pygments_lexer": "ipython3",
   "version": "3.11.7"
  }
 },
 "nbformat": 4,
 "nbformat_minor": 5
}
